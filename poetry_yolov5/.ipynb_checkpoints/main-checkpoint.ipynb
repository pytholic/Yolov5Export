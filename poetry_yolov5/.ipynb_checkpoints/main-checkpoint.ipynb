{
 "cells": [
  {
   "cell_type": "code",
   "execution_count": 7,
   "id": "f072f857",
   "metadata": {},
   "outputs": [],
   "source": [
    "import coremltools as ct\n",
    "import numpy as np\n",
    "import PIL.Image\n",
    "import cv2"
   ]
  },
  {
   "cell_type": "code",
   "execution_count": 8,
   "id": "68547a64",
   "metadata": {},
   "outputs": [],
   "source": [
    "model = ct.models.MLModel('./best_model.mlmodel')"
   ]
  },
  {
   "cell_type": "code",
   "execution_count": 9,
   "id": "ac8e1bc0",
   "metadata": {
    "scrolled": true
   },
   "outputs": [
    {
     "name": "stdout",
     "output_type": "stream",
     "text": [
      "[name: \"input_1\"\n",
      "type {\n",
      "  imageType {\n",
      "    width: 320\n",
      "    height: 240\n",
      "    colorSpace: RGB\n",
      "  }\n",
      "}\n",
      "]\n"
     ]
    }
   ],
   "source": [
    "# Print input description to get input shape.\n",
    "print(model.get_spec().description.input)"
   ]
  },
  {
   "cell_type": "code",
   "execution_count": 17,
   "id": "eac2743e",
   "metadata": {},
   "outputs": [],
   "source": [
    "# Scenario 1: load an image from disk.\n",
    "def load_image(path, resize_to=None):\n",
    "    # resize_to: (Width, Height)\n",
    "    img = PIL.Image.open(path)\n",
    "    img_np = np.array(img).astype(np.float32)\n",
    "    return img_np, img"
   ]
  },
  {
   "cell_type": "code",
   "execution_count": 18,
   "id": "699a5c5a",
   "metadata": {},
   "outputs": [],
   "source": [
    "_, img = load_image('./data/head_right_6.png')"
   ]
  },
  {
   "cell_type": "code",
   "execution_count": 19,
   "id": "6a36ff38",
   "metadata": {},
   "outputs": [
    {
     "ename": "Exception",
     "evalue": "Model prediction is only supported on macOS version 10.13 or later.",
     "output_type": "error",
     "traceback": [
      "\u001b[0;31m---------------------------------------------------------------------------\u001b[0m",
      "\u001b[0;31mException\u001b[0m                                 Traceback (most recent call last)",
      "\u001b[0;32m/tmp/ipykernel_27104/3277008169.py\u001b[0m in \u001b[0;36m<module>\u001b[0;34m\u001b[0m\n\u001b[1;32m      1\u001b[0m \u001b[0;31m#img = cv2.imread(\"./data/head_right_6.png\", 1)\u001b[0m\u001b[0;34m\u001b[0m\u001b[0;34m\u001b[0m\u001b[0m\n\u001b[0;32m----> 2\u001b[0;31m \u001b[0mout_dict\u001b[0m \u001b[0;34m=\u001b[0m \u001b[0mmodel\u001b[0m\u001b[0;34m.\u001b[0m\u001b[0mpredict\u001b[0m\u001b[0;34m(\u001b[0m\u001b[0;34m{\u001b[0m\u001b[0;34m'image'\u001b[0m\u001b[0;34m:\u001b[0m \u001b[0mimg\u001b[0m\u001b[0;34m}\u001b[0m\u001b[0;34m)\u001b[0m\u001b[0;34m\u001b[0m\u001b[0;34m\u001b[0m\u001b[0m\n\u001b[0m",
      "\u001b[0;32m~/anaconda3/envs/coreml/lib/python3.9/site-packages/coremltools/models/model.py\u001b[0m in \u001b[0;36mpredict\u001b[0;34m(self, data, useCPUOnly, **kwargs)\u001b[0m\n\u001b[1;32m    329\u001b[0m         \u001b[0;32melse\u001b[0m\u001b[0;34m:\u001b[0m\u001b[0;34m\u001b[0m\u001b[0;34m\u001b[0m\u001b[0m\n\u001b[1;32m    330\u001b[0m             \u001b[0;32mif\u001b[0m \u001b[0m_macos_version\u001b[0m\u001b[0;34m(\u001b[0m\u001b[0;34m)\u001b[0m \u001b[0;34m<\u001b[0m \u001b[0;34m(\u001b[0m\u001b[0;36m10\u001b[0m\u001b[0;34m,\u001b[0m \u001b[0;36m13\u001b[0m\u001b[0;34m)\u001b[0m\u001b[0;34m:\u001b[0m\u001b[0;34m\u001b[0m\u001b[0;34m\u001b[0m\u001b[0m\n\u001b[0;32m--> 331\u001b[0;31m                 raise Exception(\n\u001b[0m\u001b[1;32m    332\u001b[0m                     \u001b[0;34m\"Model prediction is only supported on macOS version 10.13 or later.\"\u001b[0m\u001b[0;34m\u001b[0m\u001b[0;34m\u001b[0m\u001b[0m\n\u001b[1;32m    333\u001b[0m                 )\n",
      "\u001b[0;31mException\u001b[0m: Model prediction is only supported on macOS version 10.13 or later."
     ]
    }
   ],
   "source": [
    "#img = cv2.imread(\"./data/head_right_6.png\", 1)\n",
    "out_dict = model.predict({'image': img})"
   ]
  },
  {
   "cell_type": "code",
   "execution_count": null,
   "id": "b4c7479e",
   "metadata": {},
   "outputs": [],
   "source": []
  }
 ],
 "metadata": {
  "kernelspec": {
   "display_name": "Python 3 (ipykernel)",
   "language": "python",
   "name": "python3"
  },
  "language_info": {
   "codemirror_mode": {
    "name": "ipython",
    "version": 3
   },
   "file_extension": ".py",
   "mimetype": "text/x-python",
   "name": "python",
   "nbconvert_exporter": "python",
   "pygments_lexer": "ipython3",
   "version": "3.9.7"
  }
 },
 "nbformat": 4,
 "nbformat_minor": 5
}
