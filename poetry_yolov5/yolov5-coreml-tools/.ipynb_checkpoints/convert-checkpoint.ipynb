{
 "cells": [
  {
   "cell_type": "code",
   "execution_count": 1,
   "id": "127cd3f0",
   "metadata": {},
   "outputs": [],
   "source": [
    "import os\n",
    "import torch"
   ]
  },
  {
   "cell_type": "code",
   "execution_count": null,
   "id": "481f37d0",
   "metadata": {},
   "outputs": [],
   "source": [
    "# yolov5 6.0 has issues, 4.0 works fine"
   ]
  },
  {
   "cell_type": "code",
   "execution_count": 2,
   "id": "1f7396d8",
   "metadata": {},
   "outputs": [
    {
     "name": "stdout",
     "output_type": "stream",
     "text": [
      "Traceback (most recent call last):\r\n",
      "  File \"<string>\", line 1, in <module>\r\n",
      "  File \"/home/trojan/Desktop/poetry_yolov5/yolov5-coreml-tools/src/coreml_export/main.py\", line 318, in main\r\n",
      "    model(sampleInput)\r\n",
      "  File \"/home/trojan/anaconda3/envs/poetry_yolov5/lib/python3.8/site-packages/torch/nn/modules/module.py\", line 1051, in _call_impl\r\n",
      "    return forward_call(*input, **kwargs)\r\n",
      "  File \"/home/trojan/Desktop/poetry_yolov5/yolov5/models/yolo.py\", line 126, in forward\r\n",
      "    return self._forward_once(x, profile, visualize)  # single-scale inference, train\r\n",
      "  File \"/home/trojan/Desktop/poetry_yolov5/yolov5/models/yolo.py\", line 149, in _forward_once\r\n",
      "    x = m(x)  # run\r\n",
      "  File \"/home/trojan/anaconda3/envs/poetry_yolov5/lib/python3.8/site-packages/torch/nn/modules/module.py\", line 1051, in _call_impl\r\n",
      "    return forward_call(*input, **kwargs)\r\n",
      "  File \"/home/trojan/Desktop/poetry_yolov5/yolov5/models/yolo.py\", line 61, in forward\r\n",
      "    self.grid[i], self.anchor_grid[i] = self._make_grid(nx, ny, i)\r\n",
      "RuntimeError: The expanded size of the tensor (1) must match the existing size (80) at non-singleton dimension 3.  Target sizes: [1, 3, 1, 1, 2].  Tensor sizes: [3, 80, 80, 2]\r\n"
     ]
    }
   ],
   "source": [
    "!poetry run coreml-export --model-input-path '/home/trojan/Desktop/poetry_yolov5/best/best.pt' --model-output-directory '/home/trojan/Desktop/poetry_yolov5/output' --model-output-name 'yolov5-iOS'"
   ]
  },
  {
   "cell_type": "code",
   "execution_count": null,
   "id": "f4d13abb",
   "metadata": {},
   "outputs": [],
   "source": []
  },
  {
   "cell_type": "code",
   "execution_count": null,
   "id": "9b0013f4",
   "metadata": {},
   "outputs": [],
   "source": []
  },
  {
   "cell_type": "code",
   "execution_count": null,
   "id": "7ebe720a",
   "metadata": {},
   "outputs": [],
   "source": []
  },
  {
   "cell_type": "code",
   "execution_count": null,
   "id": "531b7c86",
   "metadata": {},
   "outputs": [],
   "source": []
  },
  {
   "cell_type": "code",
   "execution_count": null,
   "id": "c6127b5c",
   "metadata": {},
   "outputs": [],
   "source": []
  }
 ],
 "metadata": {
  "kernelspec": {
   "display_name": "Python 3 (ipykernel)",
   "language": "python",
   "name": "python3"
  },
  "language_info": {
   "codemirror_mode": {
    "name": "ipython",
    "version": 3
   },
   "file_extension": ".py",
   "mimetype": "text/x-python",
   "name": "python",
   "nbconvert_exporter": "python",
   "pygments_lexer": "ipython3",
   "version": "3.8.10"
  }
 },
 "nbformat": 4,
 "nbformat_minor": 5
}
